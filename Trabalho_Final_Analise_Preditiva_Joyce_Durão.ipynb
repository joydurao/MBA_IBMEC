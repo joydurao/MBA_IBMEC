{
  "nbformat": 4,
  "nbformat_minor": 0,
  "metadata": {
    "colab": {
      "provenance": []
    },
    "kernelspec": {
      "name": "python3",
      "display_name": "Python 3"
    },
    "language_info": {
      "name": "python"
    },
    "widgets": {
      "application/vnd.jupyter.widget-state+json": {
        "cb318f992a1849c3b31965fa93f73fd5": {
          "model_module": "@jupyter-widgets/controls",
          "model_name": "HBoxModel",
          "model_module_version": "1.5.0",
          "state": {
            "_dom_classes": [],
            "_model_module": "@jupyter-widgets/controls",
            "_model_module_version": "1.5.0",
            "_model_name": "HBoxModel",
            "_view_count": null,
            "_view_module": "@jupyter-widgets/controls",
            "_view_module_version": "1.5.0",
            "_view_name": "HBoxView",
            "box_style": "",
            "children": [
              "IPY_MODEL_b132a088b6aa43d98782f8a4d0c14b7a"
            ],
            "layout": "IPY_MODEL_c8cba587a8fb43b0bd918584511c7a98"
          }
        },
        "b132a088b6aa43d98782f8a4d0c14b7a": {
          "model_module": "@jupyter-widgets/controls",
          "model_name": "VBoxModel",
          "model_module_version": "1.5.0",
          "state": {
            "_dom_classes": [],
            "_model_module": "@jupyter-widgets/controls",
            "_model_module_version": "1.5.0",
            "_model_name": "VBoxModel",
            "_view_count": null,
            "_view_module": "@jupyter-widgets/controls",
            "_view_module_version": "1.5.0",
            "_view_name": "VBoxView",
            "box_style": "",
            "children": [
              "IPY_MODEL_41adc30a1c034514a5a71c999997cbc4",
              "IPY_MODEL_363591cbdf674a758235cde11d8a80f1",
              "IPY_MODEL_deabedaaa62641dc83c3c8f10ca3b761"
            ],
            "layout": "IPY_MODEL_013d334f500349f5b82cd5ec7b975cc8"
          }
        },
        "c8cba587a8fb43b0bd918584511c7a98": {
          "model_module": "@jupyter-widgets/base",
          "model_name": "LayoutModel",
          "model_module_version": "1.2.0",
          "state": {
            "_model_module": "@jupyter-widgets/base",
            "_model_module_version": "1.2.0",
            "_model_name": "LayoutModel",
            "_view_count": null,
            "_view_module": "@jupyter-widgets/base",
            "_view_module_version": "1.2.0",
            "_view_name": "LayoutView",
            "align_content": null,
            "align_items": null,
            "align_self": null,
            "border": null,
            "bottom": null,
            "display": null,
            "flex": null,
            "flex_flow": null,
            "grid_area": null,
            "grid_auto_columns": null,
            "grid_auto_flow": null,
            "grid_auto_rows": null,
            "grid_column": null,
            "grid_gap": null,
            "grid_row": null,
            "grid_template_areas": null,
            "grid_template_columns": null,
            "grid_template_rows": null,
            "height": null,
            "justify_content": null,
            "justify_items": null,
            "left": null,
            "margin": null,
            "max_height": null,
            "max_width": null,
            "min_height": null,
            "min_width": null,
            "object_fit": null,
            "object_position": null,
            "order": null,
            "overflow": null,
            "overflow_x": null,
            "overflow_y": null,
            "padding": null,
            "right": null,
            "top": null,
            "visibility": null,
            "width": null
          }
        },
        "41adc30a1c034514a5a71c999997cbc4": {
          "model_module": "@jupyter-widgets/controls",
          "model_name": "TextModel",
          "model_module_version": "1.5.0",
          "state": {
            "_dom_classes": [],
            "_model_module": "@jupyter-widgets/controls",
            "_model_module_version": "1.5.0",
            "_model_name": "TextModel",
            "_view_count": null,
            "_view_module": "@jupyter-widgets/controls",
            "_view_module_version": "1.5.0",
            "_view_name": "TextView",
            "continuous_update": true,
            "description": "Idade",
            "description_tooltip": null,
            "disabled": false,
            "layout": "IPY_MODEL_7d35062d5f754bbe85dafa0c1f481081",
            "placeholder": "​",
            "style": "IPY_MODEL_e33a3e8437394307a8790d392cd6d62f",
            "value": "41"
          }
        },
        "363591cbdf674a758235cde11d8a80f1": {
          "model_module": "@jupyter-widgets/controls",
          "model_name": "TextModel",
          "model_module_version": "1.5.0",
          "state": {
            "_dom_classes": [],
            "_model_module": "@jupyter-widgets/controls",
            "_model_module_version": "1.5.0",
            "_model_name": "TextModel",
            "_view_count": null,
            "_view_module": "@jupyter-widgets/controls",
            "_view_module_version": "1.5.0",
            "_view_name": "TextView",
            "continuous_update": true,
            "description": "Preço do seguro",
            "description_tooltip": null,
            "disabled": false,
            "layout": "IPY_MODEL_32ac1c89b3d74bfca3c3f81561a215ac",
            "placeholder": "​",
            "style": "IPY_MODEL_73b9e9acbc53497cacf60661dd1ca3dc",
            "value": "3000"
          }
        },
        "deabedaaa62641dc83c3c8f10ca3b761": {
          "model_module": "@jupyter-widgets/controls",
          "model_name": "TextModel",
          "model_module_version": "1.5.0",
          "state": {
            "_dom_classes": [],
            "_model_module": "@jupyter-widgets/controls",
            "_model_module_version": "1.5.0",
            "_model_name": "TextModel",
            "_view_count": null,
            "_view_module": "@jupyter-widgets/controls",
            "_view_module_version": "1.5.0",
            "_view_name": "TextView",
            "continuous_update": true,
            "description": "CEP",
            "description_tooltip": null,
            "disabled": false,
            "layout": "IPY_MODEL_acc250729fd04f0ab827d79a60eedd18",
            "placeholder": "​",
            "style": "IPY_MODEL_c74a029b20f84679b536f4adbce6ac9c",
            "value": "19001"
          }
        },
        "013d334f500349f5b82cd5ec7b975cc8": {
          "model_module": "@jupyter-widgets/base",
          "model_name": "LayoutModel",
          "model_module_version": "1.2.0",
          "state": {
            "_model_module": "@jupyter-widgets/base",
            "_model_module_version": "1.2.0",
            "_model_name": "LayoutModel",
            "_view_count": null,
            "_view_module": "@jupyter-widgets/base",
            "_view_module_version": "1.2.0",
            "_view_name": "LayoutView",
            "align_content": null,
            "align_items": null,
            "align_self": null,
            "border": null,
            "bottom": null,
            "display": null,
            "flex": null,
            "flex_flow": null,
            "grid_area": null,
            "grid_auto_columns": null,
            "grid_auto_flow": null,
            "grid_auto_rows": null,
            "grid_column": null,
            "grid_gap": null,
            "grid_row": null,
            "grid_template_areas": null,
            "grid_template_columns": null,
            "grid_template_rows": null,
            "height": null,
            "justify_content": null,
            "justify_items": null,
            "left": null,
            "margin": null,
            "max_height": null,
            "max_width": null,
            "min_height": null,
            "min_width": null,
            "object_fit": null,
            "object_position": null,
            "order": null,
            "overflow": null,
            "overflow_x": null,
            "overflow_y": null,
            "padding": null,
            "right": null,
            "top": null,
            "visibility": null,
            "width": null
          }
        },
        "7d35062d5f754bbe85dafa0c1f481081": {
          "model_module": "@jupyter-widgets/base",
          "model_name": "LayoutModel",
          "model_module_version": "1.2.0",
          "state": {
            "_model_module": "@jupyter-widgets/base",
            "_model_module_version": "1.2.0",
            "_model_name": "LayoutModel",
            "_view_count": null,
            "_view_module": "@jupyter-widgets/base",
            "_view_module_version": "1.2.0",
            "_view_name": "LayoutView",
            "align_content": null,
            "align_items": null,
            "align_self": null,
            "border": null,
            "bottom": null,
            "display": null,
            "flex": null,
            "flex_flow": null,
            "grid_area": null,
            "grid_auto_columns": null,
            "grid_auto_flow": null,
            "grid_auto_rows": null,
            "grid_column": null,
            "grid_gap": null,
            "grid_row": null,
            "grid_template_areas": null,
            "grid_template_columns": null,
            "grid_template_rows": null,
            "height": null,
            "justify_content": null,
            "justify_items": null,
            "left": null,
            "margin": null,
            "max_height": null,
            "max_width": null,
            "min_height": null,
            "min_width": null,
            "object_fit": null,
            "object_position": null,
            "order": null,
            "overflow": null,
            "overflow_x": null,
            "overflow_y": null,
            "padding": null,
            "right": null,
            "top": null,
            "visibility": null,
            "width": null
          }
        },
        "e33a3e8437394307a8790d392cd6d62f": {
          "model_module": "@jupyter-widgets/controls",
          "model_name": "DescriptionStyleModel",
          "model_module_version": "1.5.0",
          "state": {
            "_model_module": "@jupyter-widgets/controls",
            "_model_module_version": "1.5.0",
            "_model_name": "DescriptionStyleModel",
            "_view_count": null,
            "_view_module": "@jupyter-widgets/base",
            "_view_module_version": "1.2.0",
            "_view_name": "StyleView",
            "description_width": ""
          }
        },
        "32ac1c89b3d74bfca3c3f81561a215ac": {
          "model_module": "@jupyter-widgets/base",
          "model_name": "LayoutModel",
          "model_module_version": "1.2.0",
          "state": {
            "_model_module": "@jupyter-widgets/base",
            "_model_module_version": "1.2.0",
            "_model_name": "LayoutModel",
            "_view_count": null,
            "_view_module": "@jupyter-widgets/base",
            "_view_module_version": "1.2.0",
            "_view_name": "LayoutView",
            "align_content": null,
            "align_items": null,
            "align_self": null,
            "border": null,
            "bottom": null,
            "display": null,
            "flex": null,
            "flex_flow": null,
            "grid_area": null,
            "grid_auto_columns": null,
            "grid_auto_flow": null,
            "grid_auto_rows": null,
            "grid_column": null,
            "grid_gap": null,
            "grid_row": null,
            "grid_template_areas": null,
            "grid_template_columns": null,
            "grid_template_rows": null,
            "height": null,
            "justify_content": null,
            "justify_items": null,
            "left": null,
            "margin": null,
            "max_height": null,
            "max_width": null,
            "min_height": null,
            "min_width": null,
            "object_fit": null,
            "object_position": null,
            "order": null,
            "overflow": null,
            "overflow_x": null,
            "overflow_y": null,
            "padding": null,
            "right": null,
            "top": null,
            "visibility": null,
            "width": null
          }
        },
        "73b9e9acbc53497cacf60661dd1ca3dc": {
          "model_module": "@jupyter-widgets/controls",
          "model_name": "DescriptionStyleModel",
          "model_module_version": "1.5.0",
          "state": {
            "_model_module": "@jupyter-widgets/controls",
            "_model_module_version": "1.5.0",
            "_model_name": "DescriptionStyleModel",
            "_view_count": null,
            "_view_module": "@jupyter-widgets/base",
            "_view_module_version": "1.2.0",
            "_view_name": "StyleView",
            "description_width": ""
          }
        },
        "acc250729fd04f0ab827d79a60eedd18": {
          "model_module": "@jupyter-widgets/base",
          "model_name": "LayoutModel",
          "model_module_version": "1.2.0",
          "state": {
            "_model_module": "@jupyter-widgets/base",
            "_model_module_version": "1.2.0",
            "_model_name": "LayoutModel",
            "_view_count": null,
            "_view_module": "@jupyter-widgets/base",
            "_view_module_version": "1.2.0",
            "_view_name": "LayoutView",
            "align_content": null,
            "align_items": null,
            "align_self": null,
            "border": null,
            "bottom": null,
            "display": null,
            "flex": null,
            "flex_flow": null,
            "grid_area": null,
            "grid_auto_columns": null,
            "grid_auto_flow": null,
            "grid_auto_rows": null,
            "grid_column": null,
            "grid_gap": null,
            "grid_row": null,
            "grid_template_areas": null,
            "grid_template_columns": null,
            "grid_template_rows": null,
            "height": null,
            "justify_content": null,
            "justify_items": null,
            "left": null,
            "margin": null,
            "max_height": null,
            "max_width": null,
            "min_height": null,
            "min_width": null,
            "object_fit": null,
            "object_position": null,
            "order": null,
            "overflow": null,
            "overflow_x": null,
            "overflow_y": null,
            "padding": null,
            "right": null,
            "top": null,
            "visibility": null,
            "width": null
          }
        },
        "c74a029b20f84679b536f4adbce6ac9c": {
          "model_module": "@jupyter-widgets/controls",
          "model_name": "DescriptionStyleModel",
          "model_module_version": "1.5.0",
          "state": {
            "_model_module": "@jupyter-widgets/controls",
            "_model_module_version": "1.5.0",
            "_model_name": "DescriptionStyleModel",
            "_view_count": null,
            "_view_module": "@jupyter-widgets/base",
            "_view_module_version": "1.2.0",
            "_view_name": "StyleView",
            "description_width": ""
          }
        },
        "be208481709b421083a843622a58eb4e": {
          "model_module": "@jupyter-widgets/controls",
          "model_name": "ButtonModel",
          "model_module_version": "1.5.0",
          "state": {
            "_dom_classes": [],
            "_model_module": "@jupyter-widgets/controls",
            "_model_module_version": "1.5.0",
            "_model_name": "ButtonModel",
            "_view_count": null,
            "_view_module": "@jupyter-widgets/controls",
            "_view_module_version": "1.5.0",
            "_view_name": "ButtonView",
            "button_style": "",
            "description": "Prever",
            "disabled": false,
            "icon": "",
            "layout": "IPY_MODEL_ede844fcbbca4934af49958d6d6dd7bc",
            "style": "IPY_MODEL_ee038ec7ff664d2e8477fcc804e7540e",
            "tooltip": ""
          }
        },
        "ede844fcbbca4934af49958d6d6dd7bc": {
          "model_module": "@jupyter-widgets/base",
          "model_name": "LayoutModel",
          "model_module_version": "1.2.0",
          "state": {
            "_model_module": "@jupyter-widgets/base",
            "_model_module_version": "1.2.0",
            "_model_name": "LayoutModel",
            "_view_count": null,
            "_view_module": "@jupyter-widgets/base",
            "_view_module_version": "1.2.0",
            "_view_name": "LayoutView",
            "align_content": null,
            "align_items": null,
            "align_self": null,
            "border": null,
            "bottom": null,
            "display": null,
            "flex": null,
            "flex_flow": null,
            "grid_area": null,
            "grid_auto_columns": null,
            "grid_auto_flow": null,
            "grid_auto_rows": null,
            "grid_column": null,
            "grid_gap": null,
            "grid_row": null,
            "grid_template_areas": null,
            "grid_template_columns": null,
            "grid_template_rows": null,
            "height": null,
            "justify_content": null,
            "justify_items": null,
            "left": null,
            "margin": null,
            "max_height": null,
            "max_width": null,
            "min_height": null,
            "min_width": null,
            "object_fit": null,
            "object_position": null,
            "order": null,
            "overflow": null,
            "overflow_x": null,
            "overflow_y": null,
            "padding": null,
            "right": null,
            "top": null,
            "visibility": null,
            "width": null
          }
        },
        "ee038ec7ff664d2e8477fcc804e7540e": {
          "model_module": "@jupyter-widgets/controls",
          "model_name": "ButtonStyleModel",
          "model_module_version": "1.5.0",
          "state": {
            "_model_module": "@jupyter-widgets/controls",
            "_model_module_version": "1.5.0",
            "_model_name": "ButtonStyleModel",
            "_view_count": null,
            "_view_module": "@jupyter-widgets/base",
            "_view_module_version": "1.2.0",
            "_view_name": "StyleView",
            "button_color": null,
            "font_weight": ""
          }
        }
      }
    }
  },
  "cells": [
    {
      "cell_type": "markdown",
      "source": [
        "# Trabalho Final de Análise Preditiva\n",
        "#####Professor : Álvaro Riz\n",
        "#####Aluna: Joyce Alves Durão\n",
        "\n",
        "### Neste trabalho será realizado uma análise dos dados referentes a Seguradora LGSY, para traçar um modelo preditivo dos tipos de uso de serviços oferecidos pela seguradora.\n",
        "\n",
        "\n",
        "######Fonte dos dados a serem carregados disponível em:\n",
        "###### https://github.com/alvaroriz/datascience_datasets/blob/main/Classificacao_Uso_De_Seguro.xlsx?raw=true"
      ],
      "metadata": {
        "id": "LG4LFlUn975e"
      }
    },
    {
      "cell_type": "markdown",
      "source": [
        "##### Importando as bibliotecas necessárias para modelagem de dados (Pandas), obtenção de recursos matemáticos (Numpy), criação de gráficos e visualização de dados (Matplotlib e Seaborn) "
      ],
      "metadata": {
        "id": "HSX938ga_tKW"
      }
    },
    {
      "cell_type": "code",
      "execution_count": null,
      "metadata": {
        "id": "GwrmiUWN9tBT"
      },
      "outputs": [],
      "source": [
        "import pandas as pd\n",
        "import numpy as np\n",
        "import matplotlib.pyplot as plt\n",
        "import seaborn as sns"
      ]
    },
    {
      "cell_type": "markdown",
      "source": [
        "##### Carregando o Dataset"
      ],
      "metadata": {
        "id": "Y_JCGHk5BT7m"
      }
    },
    {
      "cell_type": "code",
      "source": [
        "data = pd.read_excel('https://github.com/alvaroriz/datascience_datasets/blob/main/Classificacao_Uso_De_Seguro.xlsx?raw=true')"
      ],
      "metadata": {
        "id": "Zss4L4bPA-6M"
      },
      "execution_count": null,
      "outputs": []
    },
    {
      "cell_type": "markdown",
      "source": [
        "##### Verificando o Dataset"
      ],
      "metadata": {
        "id": "YWodlnwTEoB4"
      }
    },
    {
      "cell_type": "code",
      "source": [
        "data"
      ],
      "metadata": {
        "colab": {
          "base_uri": "https://localhost:8080/",
          "height": 424
        },
        "id": "R_Z34O1RCXFZ",
        "outputId": "a30192ec-5bef-4aed-8f7b-552b19d46abb"
      },
      "execution_count": null,
      "outputs": [
        {
          "output_type": "execute_result",
          "data": {
            "text/plain": [
              "     Idade  Preço Seguro    CEP  Serviço\n",
              "0       69          3930  19005        3\n",
              "1       27          3336  19027        1\n",
              "2       49          3936  19001        3\n",
              "3       60           157  19009        1\n",
              "4       51          3998  19050        2\n",
              "..     ...           ...    ...      ...\n",
              "495     24           389  19026        1\n",
              "496     47           967  19022        1\n",
              "497     58          1520  19019        2\n",
              "498     72          3155  19029        3\n",
              "499     54          3656  19034        3\n",
              "\n",
              "[500 rows x 4 columns]"
            ],
            "text/html": [
              "\n",
              "  <div id=\"df-92b9dd67-1751-484a-a2a2-7e192591e256\">\n",
              "    <div class=\"colab-df-container\">\n",
              "      <div>\n",
              "<style scoped>\n",
              "    .dataframe tbody tr th:only-of-type {\n",
              "        vertical-align: middle;\n",
              "    }\n",
              "\n",
              "    .dataframe tbody tr th {\n",
              "        vertical-align: top;\n",
              "    }\n",
              "\n",
              "    .dataframe thead th {\n",
              "        text-align: right;\n",
              "    }\n",
              "</style>\n",
              "<table border=\"1\" class=\"dataframe\">\n",
              "  <thead>\n",
              "    <tr style=\"text-align: right;\">\n",
              "      <th></th>\n",
              "      <th>Idade</th>\n",
              "      <th>Preço Seguro</th>\n",
              "      <th>CEP</th>\n",
              "      <th>Serviço</th>\n",
              "    </tr>\n",
              "  </thead>\n",
              "  <tbody>\n",
              "    <tr>\n",
              "      <th>0</th>\n",
              "      <td>69</td>\n",
              "      <td>3930</td>\n",
              "      <td>19005</td>\n",
              "      <td>3</td>\n",
              "    </tr>\n",
              "    <tr>\n",
              "      <th>1</th>\n",
              "      <td>27</td>\n",
              "      <td>3336</td>\n",
              "      <td>19027</td>\n",
              "      <td>1</td>\n",
              "    </tr>\n",
              "    <tr>\n",
              "      <th>2</th>\n",
              "      <td>49</td>\n",
              "      <td>3936</td>\n",
              "      <td>19001</td>\n",
              "      <td>3</td>\n",
              "    </tr>\n",
              "    <tr>\n",
              "      <th>3</th>\n",
              "      <td>60</td>\n",
              "      <td>157</td>\n",
              "      <td>19009</td>\n",
              "      <td>1</td>\n",
              "    </tr>\n",
              "    <tr>\n",
              "      <th>4</th>\n",
              "      <td>51</td>\n",
              "      <td>3998</td>\n",
              "      <td>19050</td>\n",
              "      <td>2</td>\n",
              "    </tr>\n",
              "    <tr>\n",
              "      <th>...</th>\n",
              "      <td>...</td>\n",
              "      <td>...</td>\n",
              "      <td>...</td>\n",
              "      <td>...</td>\n",
              "    </tr>\n",
              "    <tr>\n",
              "      <th>495</th>\n",
              "      <td>24</td>\n",
              "      <td>389</td>\n",
              "      <td>19026</td>\n",
              "      <td>1</td>\n",
              "    </tr>\n",
              "    <tr>\n",
              "      <th>496</th>\n",
              "      <td>47</td>\n",
              "      <td>967</td>\n",
              "      <td>19022</td>\n",
              "      <td>1</td>\n",
              "    </tr>\n",
              "    <tr>\n",
              "      <th>497</th>\n",
              "      <td>58</td>\n",
              "      <td>1520</td>\n",
              "      <td>19019</td>\n",
              "      <td>2</td>\n",
              "    </tr>\n",
              "    <tr>\n",
              "      <th>498</th>\n",
              "      <td>72</td>\n",
              "      <td>3155</td>\n",
              "      <td>19029</td>\n",
              "      <td>3</td>\n",
              "    </tr>\n",
              "    <tr>\n",
              "      <th>499</th>\n",
              "      <td>54</td>\n",
              "      <td>3656</td>\n",
              "      <td>19034</td>\n",
              "      <td>3</td>\n",
              "    </tr>\n",
              "  </tbody>\n",
              "</table>\n",
              "<p>500 rows × 4 columns</p>\n",
              "</div>\n",
              "      <button class=\"colab-df-convert\" onclick=\"convertToInteractive('df-92b9dd67-1751-484a-a2a2-7e192591e256')\"\n",
              "              title=\"Convert this dataframe to an interactive table.\"\n",
              "              style=\"display:none;\">\n",
              "        \n",
              "  <svg xmlns=\"http://www.w3.org/2000/svg\" height=\"24px\"viewBox=\"0 0 24 24\"\n",
              "       width=\"24px\">\n",
              "    <path d=\"M0 0h24v24H0V0z\" fill=\"none\"/>\n",
              "    <path d=\"M18.56 5.44l.94 2.06.94-2.06 2.06-.94-2.06-.94-.94-2.06-.94 2.06-2.06.94zm-11 1L8.5 8.5l.94-2.06 2.06-.94-2.06-.94L8.5 2.5l-.94 2.06-2.06.94zm10 10l.94 2.06.94-2.06 2.06-.94-2.06-.94-.94-2.06-.94 2.06-2.06.94z\"/><path d=\"M17.41 7.96l-1.37-1.37c-.4-.4-.92-.59-1.43-.59-.52 0-1.04.2-1.43.59L10.3 9.45l-7.72 7.72c-.78.78-.78 2.05 0 2.83L4 21.41c.39.39.9.59 1.41.59.51 0 1.02-.2 1.41-.59l7.78-7.78 2.81-2.81c.8-.78.8-2.07 0-2.86zM5.41 20L4 18.59l7.72-7.72 1.47 1.35L5.41 20z\"/>\n",
              "  </svg>\n",
              "      </button>\n",
              "      \n",
              "  <style>\n",
              "    .colab-df-container {\n",
              "      display:flex;\n",
              "      flex-wrap:wrap;\n",
              "      gap: 12px;\n",
              "    }\n",
              "\n",
              "    .colab-df-convert {\n",
              "      background-color: #E8F0FE;\n",
              "      border: none;\n",
              "      border-radius: 50%;\n",
              "      cursor: pointer;\n",
              "      display: none;\n",
              "      fill: #1967D2;\n",
              "      height: 32px;\n",
              "      padding: 0 0 0 0;\n",
              "      width: 32px;\n",
              "    }\n",
              "\n",
              "    .colab-df-convert:hover {\n",
              "      background-color: #E2EBFA;\n",
              "      box-shadow: 0px 1px 2px rgba(60, 64, 67, 0.3), 0px 1px 3px 1px rgba(60, 64, 67, 0.15);\n",
              "      fill: #174EA6;\n",
              "    }\n",
              "\n",
              "    [theme=dark] .colab-df-convert {\n",
              "      background-color: #3B4455;\n",
              "      fill: #D2E3FC;\n",
              "    }\n",
              "\n",
              "    [theme=dark] .colab-df-convert:hover {\n",
              "      background-color: #434B5C;\n",
              "      box-shadow: 0px 1px 3px 1px rgba(0, 0, 0, 0.15);\n",
              "      filter: drop-shadow(0px 1px 2px rgba(0, 0, 0, 0.3));\n",
              "      fill: #FFFFFF;\n",
              "    }\n",
              "  </style>\n",
              "\n",
              "      <script>\n",
              "        const buttonEl =\n",
              "          document.querySelector('#df-92b9dd67-1751-484a-a2a2-7e192591e256 button.colab-df-convert');\n",
              "        buttonEl.style.display =\n",
              "          google.colab.kernel.accessAllowed ? 'block' : 'none';\n",
              "\n",
              "        async function convertToInteractive(key) {\n",
              "          const element = document.querySelector('#df-92b9dd67-1751-484a-a2a2-7e192591e256');\n",
              "          const dataTable =\n",
              "            await google.colab.kernel.invokeFunction('convertToInteractive',\n",
              "                                                     [key], {});\n",
              "          if (!dataTable) return;\n",
              "\n",
              "          const docLinkHtml = 'Like what you see? Visit the ' +\n",
              "            '<a target=\"_blank\" href=https://colab.research.google.com/notebooks/data_table.ipynb>data table notebook</a>'\n",
              "            + ' to learn more about interactive tables.';\n",
              "          element.innerHTML = '';\n",
              "          dataTable['output_type'] = 'display_data';\n",
              "          await google.colab.output.renderOutput(dataTable, element);\n",
              "          const docLink = document.createElement('div');\n",
              "          docLink.innerHTML = docLinkHtml;\n",
              "          element.appendChild(docLink);\n",
              "        }\n",
              "      </script>\n",
              "    </div>\n",
              "  </div>\n",
              "  "
            ]
          },
          "metadata": {},
          "execution_count": 7
        }
      ]
    },
    {
      "cell_type": "markdown",
      "source": [
        "Os dados são constituídos de 500 linhas e 4 colunas."
      ],
      "metadata": {
        "id": "dLFW_IJKTGSZ"
      }
    },
    {
      "cell_type": "markdown",
      "source": [
        "##### Conhecendo as variáveis e traçando algumas estatísticas básicas"
      ],
      "metadata": {
        "id": "er32s5UpCWnp"
      }
    },
    {
      "cell_type": "code",
      "source": [
        "data.describe().round(2)"
      ],
      "metadata": {
        "colab": {
          "base_uri": "https://localhost:8080/",
          "height": 300
        },
        "id": "MG3D9eOLCwQs",
        "outputId": "f3f030ac-8aa6-48ca-90df-2c61167a2683"
      },
      "execution_count": null,
      "outputs": [
        {
          "output_type": "execute_result",
          "data": {
            "text/plain": [
              "        Idade  Preço Seguro       CEP  Serviço\n",
              "count  500.00        500.00    500.00   500.00\n",
              "mean    49.55       1939.27  19024.81     1.90\n",
              "std     18.17       1402.29     15.08     0.86\n",
              "min     18.00        100.00  19000.00     1.00\n",
              "25%     33.75        612.00  19011.00     1.00\n",
              "50%     51.00       1667.50  19025.00     2.00\n",
              "75%     65.00       3329.50  19038.00     3.00\n",
              "max     80.00       3998.00  19050.00     3.00"
            ],
            "text/html": [
              "\n",
              "  <div id=\"df-cfaf54d2-5963-4d0e-aa6b-9e40bb482bb9\">\n",
              "    <div class=\"colab-df-container\">\n",
              "      <div>\n",
              "<style scoped>\n",
              "    .dataframe tbody tr th:only-of-type {\n",
              "        vertical-align: middle;\n",
              "    }\n",
              "\n",
              "    .dataframe tbody tr th {\n",
              "        vertical-align: top;\n",
              "    }\n",
              "\n",
              "    .dataframe thead th {\n",
              "        text-align: right;\n",
              "    }\n",
              "</style>\n",
              "<table border=\"1\" class=\"dataframe\">\n",
              "  <thead>\n",
              "    <tr style=\"text-align: right;\">\n",
              "      <th></th>\n",
              "      <th>Idade</th>\n",
              "      <th>Preço Seguro</th>\n",
              "      <th>CEP</th>\n",
              "      <th>Serviço</th>\n",
              "    </tr>\n",
              "  </thead>\n",
              "  <tbody>\n",
              "    <tr>\n",
              "      <th>count</th>\n",
              "      <td>500.00</td>\n",
              "      <td>500.00</td>\n",
              "      <td>500.00</td>\n",
              "      <td>500.00</td>\n",
              "    </tr>\n",
              "    <tr>\n",
              "      <th>mean</th>\n",
              "      <td>49.55</td>\n",
              "      <td>1939.27</td>\n",
              "      <td>19024.81</td>\n",
              "      <td>1.90</td>\n",
              "    </tr>\n",
              "    <tr>\n",
              "      <th>std</th>\n",
              "      <td>18.17</td>\n",
              "      <td>1402.29</td>\n",
              "      <td>15.08</td>\n",
              "      <td>0.86</td>\n",
              "    </tr>\n",
              "    <tr>\n",
              "      <th>min</th>\n",
              "      <td>18.00</td>\n",
              "      <td>100.00</td>\n",
              "      <td>19000.00</td>\n",
              "      <td>1.00</td>\n",
              "    </tr>\n",
              "    <tr>\n",
              "      <th>25%</th>\n",
              "      <td>33.75</td>\n",
              "      <td>612.00</td>\n",
              "      <td>19011.00</td>\n",
              "      <td>1.00</td>\n",
              "    </tr>\n",
              "    <tr>\n",
              "      <th>50%</th>\n",
              "      <td>51.00</td>\n",
              "      <td>1667.50</td>\n",
              "      <td>19025.00</td>\n",
              "      <td>2.00</td>\n",
              "    </tr>\n",
              "    <tr>\n",
              "      <th>75%</th>\n",
              "      <td>65.00</td>\n",
              "      <td>3329.50</td>\n",
              "      <td>19038.00</td>\n",
              "      <td>3.00</td>\n",
              "    </tr>\n",
              "    <tr>\n",
              "      <th>max</th>\n",
              "      <td>80.00</td>\n",
              "      <td>3998.00</td>\n",
              "      <td>19050.00</td>\n",
              "      <td>3.00</td>\n",
              "    </tr>\n",
              "  </tbody>\n",
              "</table>\n",
              "</div>\n",
              "      <button class=\"colab-df-convert\" onclick=\"convertToInteractive('df-cfaf54d2-5963-4d0e-aa6b-9e40bb482bb9')\"\n",
              "              title=\"Convert this dataframe to an interactive table.\"\n",
              "              style=\"display:none;\">\n",
              "        \n",
              "  <svg xmlns=\"http://www.w3.org/2000/svg\" height=\"24px\"viewBox=\"0 0 24 24\"\n",
              "       width=\"24px\">\n",
              "    <path d=\"M0 0h24v24H0V0z\" fill=\"none\"/>\n",
              "    <path d=\"M18.56 5.44l.94 2.06.94-2.06 2.06-.94-2.06-.94-.94-2.06-.94 2.06-2.06.94zm-11 1L8.5 8.5l.94-2.06 2.06-.94-2.06-.94L8.5 2.5l-.94 2.06-2.06.94zm10 10l.94 2.06.94-2.06 2.06-.94-2.06-.94-.94-2.06-.94 2.06-2.06.94z\"/><path d=\"M17.41 7.96l-1.37-1.37c-.4-.4-.92-.59-1.43-.59-.52 0-1.04.2-1.43.59L10.3 9.45l-7.72 7.72c-.78.78-.78 2.05 0 2.83L4 21.41c.39.39.9.59 1.41.59.51 0 1.02-.2 1.41-.59l7.78-7.78 2.81-2.81c.8-.78.8-2.07 0-2.86zM5.41 20L4 18.59l7.72-7.72 1.47 1.35L5.41 20z\"/>\n",
              "  </svg>\n",
              "      </button>\n",
              "      \n",
              "  <style>\n",
              "    .colab-df-container {\n",
              "      display:flex;\n",
              "      flex-wrap:wrap;\n",
              "      gap: 12px;\n",
              "    }\n",
              "\n",
              "    .colab-df-convert {\n",
              "      background-color: #E8F0FE;\n",
              "      border: none;\n",
              "      border-radius: 50%;\n",
              "      cursor: pointer;\n",
              "      display: none;\n",
              "      fill: #1967D2;\n",
              "      height: 32px;\n",
              "      padding: 0 0 0 0;\n",
              "      width: 32px;\n",
              "    }\n",
              "\n",
              "    .colab-df-convert:hover {\n",
              "      background-color: #E2EBFA;\n",
              "      box-shadow: 0px 1px 2px rgba(60, 64, 67, 0.3), 0px 1px 3px 1px rgba(60, 64, 67, 0.15);\n",
              "      fill: #174EA6;\n",
              "    }\n",
              "\n",
              "    [theme=dark] .colab-df-convert {\n",
              "      background-color: #3B4455;\n",
              "      fill: #D2E3FC;\n",
              "    }\n",
              "\n",
              "    [theme=dark] .colab-df-convert:hover {\n",
              "      background-color: #434B5C;\n",
              "      box-shadow: 0px 1px 3px 1px rgba(0, 0, 0, 0.15);\n",
              "      filter: drop-shadow(0px 1px 2px rgba(0, 0, 0, 0.3));\n",
              "      fill: #FFFFFF;\n",
              "    }\n",
              "  </style>\n",
              "\n",
              "      <script>\n",
              "        const buttonEl =\n",
              "          document.querySelector('#df-cfaf54d2-5963-4d0e-aa6b-9e40bb482bb9 button.colab-df-convert');\n",
              "        buttonEl.style.display =\n",
              "          google.colab.kernel.accessAllowed ? 'block' : 'none';\n",
              "\n",
              "        async function convertToInteractive(key) {\n",
              "          const element = document.querySelector('#df-cfaf54d2-5963-4d0e-aa6b-9e40bb482bb9');\n",
              "          const dataTable =\n",
              "            await google.colab.kernel.invokeFunction('convertToInteractive',\n",
              "                                                     [key], {});\n",
              "          if (!dataTable) return;\n",
              "\n",
              "          const docLinkHtml = 'Like what you see? Visit the ' +\n",
              "            '<a target=\"_blank\" href=https://colab.research.google.com/notebooks/data_table.ipynb>data table notebook</a>'\n",
              "            + ' to learn more about interactive tables.';\n",
              "          element.innerHTML = '';\n",
              "          dataTable['output_type'] = 'display_data';\n",
              "          await google.colab.output.renderOutput(dataTable, element);\n",
              "          const docLink = document.createElement('div');\n",
              "          docLink.innerHTML = docLinkHtml;\n",
              "          element.appendChild(docLink);\n",
              "        }\n",
              "      </script>\n",
              "    </div>\n",
              "  </div>\n",
              "  "
            ]
          },
          "metadata": {},
          "execution_count": 8
        }
      ]
    },
    {
      "cell_type": "markdown",
      "source": [
        "Um dos pontos importantes, é verificar se a escala da variável dependente, ponto focal do estudo, possui suas observações dentro da escala pré-definida (1,2 ou3). A partir das informações acima podemos notar que a classificação de serviço está sempre dentra da escala, que varia entre 1, 2 e 3, não havendo assim, nenhum erro a ser corrigido."
      ],
      "metadata": {
        "id": "zR1ezL8QnxFt"
      }
    },
    {
      "cell_type": "markdown",
      "source": [
        "##### Verificando como estão classificadas as variáveis (tipo)"
      ],
      "metadata": {
        "id": "hIV19ao3JnC0"
      }
    },
    {
      "cell_type": "code",
      "source": [
        "data.info()"
      ],
      "metadata": {
        "colab": {
          "base_uri": "https://localhost:8080/"
        },
        "id": "8GC8BDycH8S9",
        "outputId": "50f33a77-b7d4-4f92-d98e-42e64f0dbb82"
      },
      "execution_count": null,
      "outputs": [
        {
          "output_type": "stream",
          "name": "stdout",
          "text": [
            "<class 'pandas.core.frame.DataFrame'>\n",
            "RangeIndex: 500 entries, 0 to 499\n",
            "Data columns (total 4 columns):\n",
            " #   Column        Non-Null Count  Dtype\n",
            "---  ------        --------------  -----\n",
            " 0   Idade         500 non-null    int64\n",
            " 1   Preço Seguro  500 non-null    int64\n",
            " 2   CEP           500 non-null    int64\n",
            " 3   Serviço       500 non-null    int64\n",
            "dtypes: int64(4)\n",
            "memory usage: 15.8 KB\n"
          ]
        }
      ]
    },
    {
      "cell_type": "markdown",
      "source": [
        "Os dados, excluindo-se o nome de suas colunas, estão todos classificados como inteiros, não havendo necessidade de transformações (caso de variáveis categóricas) para que sejam feitas as análises."
      ],
      "metadata": {
        "id": "g4mvvdFNT_4s"
      }
    },
    {
      "cell_type": "markdown",
      "source": [
        "Verificando se há valores ausentes nas células que possam interferir nas análises:"
      ],
      "metadata": {
        "id": "ujdvA22rr8F8"
      }
    },
    {
      "cell_type": "code",
      "source": [
        "data.isna().sum().sum()"
      ],
      "metadata": {
        "colab": {
          "base_uri": "https://localhost:8080/"
        },
        "id": "LBR13H4oqyBw",
        "outputId": "dddf3da4-f272-48cf-a4ce-b5394bc33f5d"
      },
      "execution_count": null,
      "outputs": [
        {
          "output_type": "execute_result",
          "data": {
            "text/plain": [
              "0"
            ]
          },
          "metadata": {},
          "execution_count": 10
        }
      ]
    },
    {
      "cell_type": "markdown",
      "source": [
        "Não há valores ausentes a serem tratados."
      ],
      "metadata": {
        "id": "jqQq3jjubHUP"
      }
    },
    {
      "cell_type": "markdown",
      "source": [
        "## Histogramas\n",
        "Abaixo temos a distribuição de frequência de observações em cada variável. \n",
        "\n",
        "> Na frequência relacionada a idades temos que o maior público concentra-se na faixa etária entre 54 e 56 anos.\n",
        "Bloco com recuo\n",
        "\n",
        "\n",
        "\n",
        "> Em relação ao preço do seguro, os maiores montantes concentram-se nas extremidades, abaixo do valor de 1000 e acima de 3000.\n",
        "\n",
        "\n",
        "> As informações sobre o CEP pouco, ou quase nada agregam ao estudo, mostrando apenas algumas concentrações sem nenhuma tendência relevantes.\n",
        "\n",
        "\n",
        "> Por último temos o tipo de serviço, em que podemos ver uma concentração maior no tipo 1.\n",
        "\n",
        "\n",
        "\n",
        "\n",
        "\n",
        "\n",
        "\n",
        "\n",
        "\n",
        "\n"
      ],
      "metadata": {
        "id": "Tj3c9fGqoVcV"
      }
    },
    {
      "cell_type": "code",
      "source": [
        "sns.set(font_scale=1.0, rc={'figure.figsize':(10,10)})\n",
        "eixo = data.hist(bins=30, color='lightblue')"
      ],
      "metadata": {
        "colab": {
          "base_uri": "https://localhost:8080/",
          "height": 610
        },
        "id": "cHHKoZcJoLY6",
        "outputId": "98b6fe79-b5bd-4472-c9ce-d72ebee013f9"
      },
      "execution_count": null,
      "outputs": [
        {
          "output_type": "display_data",
          "data": {
            "text/plain": [
              "<Figure size 720x720 with 4 Axes>"
            ],
            "image/png": "[encoded data removed]"
          },
          "metadata": {}
        }
      ]
    },
    {
      "cell_type": "markdown",
      "source": [
        "## Histograma da variável dependente\n",
        "\n",
        "Aqui podemos notar que o Serviço do Tipo 1 apresenta a maior frequência de observações, seguido pelo Tipo 3 e por último, pelo tipo 2.\n",
        "\n",
        "\n"
      ],
      "metadata": {
        "id": "PtZqmT90Lywh"
      }
    },
    {
      "cell_type": "code",
      "source": [
        "ax = sns.histplot(data['Serviço'], kde=True)\n",
        "ax.figure.set_size_inches(10, 5)\n",
        "ax.set_title('Distribuição de Frequências', fontsize=20)\n",
        "ax.set_ylabel('Frequências', fontsize=16)\n",
        "ax.set_xlabel('Min', fontsize=16)\n",
        "ax"
      ],
      "metadata": {
        "colab": {
          "base_uri": "https://localhost:8080/",
          "height": 380
        },
        "id": "YytLF1QuL4jB",
        "outputId": "744c987d-3259-4fd8-a6c9-33d2a15d0e9f"
      },
      "execution_count": null,
      "outputs": [
        {
          "output_type": "execute_result",
          "data": {
            "text/plain": [
              "<matplotlib.axes._subplots.AxesSubplot at 0x7f7a8b508880>"
            ]
          },
          "metadata": {},
          "execution_count": 12
        },
        {
          "output_type": "display_data",
          "data": {
            "text/plain": [
              "<Figure size 720x360 with 1 Axes>"
            ],
            "image/png": "[encoded data removed]"
          },
          "metadata": {}
        }
      ]
    },
    {
      "cell_type": "markdown",
      "source": [
        "## Vendo a correlação entre as variáveis.\n",
        "A partir da correlação abaixo calculada, podemos notar que a única variável que possui uma correlação forte e satisfatória é o preço do seguro, significando que, alterações no valor do preço do seguro irão interfeir diretamente no tipo de serviço a ser contratado."
      ],
      "metadata": {
        "id": "qMeTll6INI1-"
      }
    },
    {
      "cell_type": "code",
      "source": [
        "correlation = data.corr()\n",
        "plot = sns.heatmap(correlation, annot = True, fmt=\".2f\", linewidths=.1)\n",
        "plot"
      ],
      "metadata": {
        "colab": {
          "base_uri": "https://localhost:8080/",
          "height": 615
        },
        "id": "sg8xlSaJc1bA",
        "outputId": "8528b271-686a-456f-b280-70a0861a297a"
      },
      "execution_count": null,
      "outputs": [
        {
          "output_type": "execute_result",
          "data": {
            "text/plain": [
              "<matplotlib.axes._subplots.AxesSubplot at 0x7f7a894adeb0>"
            ]
          },
          "metadata": {},
          "execution_count": 13
        },
        {
          "output_type": "display_data",
          "data": {
            "text/plain": [
              "<Figure size 720x720 with 2 Axes>"
            ],
            "image/png": "[encoded data removed]"
          },
          "metadata": {}
        }
      ]
    },
    {
      "cell_type": "markdown",
      "source": [
        "Com um pouco mais de casas decimais..."
      ],
      "metadata": {
        "id": "AShG8n9ANFL7"
      }
    },
    {
      "cell_type": "code",
      "source": [
        "correlation"
      ],
      "metadata": {
        "colab": {
          "base_uri": "https://localhost:8080/",
          "height": 175
        },
        "id": "XXxMoXbbiQNW",
        "outputId": "aa3ca39f-2cca-466e-a027-416d0ee1ff76"
      },
      "execution_count": null,
      "outputs": [
        {
          "output_type": "execute_result",
          "data": {
            "text/plain": [
              "                 Idade  Preço Seguro       CEP   Serviço\n",
              "Idade         1.000000      0.239784 -0.007690  0.317317\n",
              "Preço Seguro  0.239784      1.000000  0.250562  0.862361\n",
              "CEP          -0.007690      0.250562  1.000000  0.265624\n",
              "Serviço       0.317317      0.862361  0.265624  1.000000"
            ],
            "text/html": [
              "\n",
              "  <div id=\"df-33d796e3-98da-44bd-8299-ea547421f43f\">\n",
              "    <div class=\"colab-df-container\">\n",
              "      <div>\n",
              "<style scoped>\n",
              "    .dataframe tbody tr th:only-of-type {\n",
              "        vertical-align: middle;\n",
              "    }\n",
              "\n",
              "    .dataframe tbody tr th {\n",
              "        vertical-align: top;\n",
              "    }\n",
              "\n",
              "    .dataframe thead th {\n",
              "        text-align: right;\n",
              "    }\n",
              "</style>\n",
              "<table border=\"1\" class=\"dataframe\">\n",
              "  <thead>\n",
              "    <tr style=\"text-align: right;\">\n",
              "      <th></th>\n",
              "      <th>Idade</th>\n",
              "      <th>Preço Seguro</th>\n",
              "      <th>CEP</th>\n",
              "      <th>Serviço</th>\n",
              "    </tr>\n",
              "  </thead>\n",
              "  <tbody>\n",
              "    <tr>\n",
              "      <th>Idade</th>\n",
              "      <td>1.000000</td>\n",
              "      <td>0.239784</td>\n",
              "      <td>-0.007690</td>\n",
              "      <td>0.317317</td>\n",
              "    </tr>\n",
              "    <tr>\n",
              "      <th>Preço Seguro</th>\n",
              "      <td>0.239784</td>\n",
              "      <td>1.000000</td>\n",
              "      <td>0.250562</td>\n",
              "      <td>0.862361</td>\n",
              "    </tr>\n",
              "    <tr>\n",
              "      <th>CEP</th>\n",
              "      <td>-0.007690</td>\n",
              "      <td>0.250562</td>\n",
              "      <td>1.000000</td>\n",
              "      <td>0.265624</td>\n",
              "    </tr>\n",
              "    <tr>\n",
              "      <th>Serviço</th>\n",
              "      <td>0.317317</td>\n",
              "      <td>0.862361</td>\n",
              "      <td>0.265624</td>\n",
              "      <td>1.000000</td>\n",
              "    </tr>\n",
              "  </tbody>\n",
              "</table>\n",
              "</div>\n",
              "      <button class=\"colab-df-convert\" onclick=\"convertToInteractive('df-33d796e3-98da-44bd-8299-ea547421f43f')\"\n",
              "              title=\"Convert this dataframe to an interactive table.\"\n",
              "              style=\"display:none;\">\n",
              "        \n",
              "  <svg xmlns=\"http://www.w3.org/2000/svg\" height=\"24px\"viewBox=\"0 0 24 24\"\n",
              "       width=\"24px\">\n",
              "    <path d=\"M0 0h24v24H0V0z\" fill=\"none\"/>\n",
              "    <path d=\"M18.56 5.44l.94 2.06.94-2.06 2.06-.94-2.06-.94-.94-2.06-.94 2.06-2.06.94zm-11 1L8.5 8.5l.94-2.06 2.06-.94-2.06-.94L8.5 2.5l-.94 2.06-2.06.94zm10 10l.94 2.06.94-2.06 2.06-.94-2.06-.94-.94-2.06-.94 2.06-2.06.94z\"/><path d=\"M17.41 7.96l-1.37-1.37c-.4-.4-.92-.59-1.43-.59-.52 0-1.04.2-1.43.59L10.3 9.45l-7.72 7.72c-.78.78-.78 2.05 0 2.83L4 21.41c.39.39.9.59 1.41.59.51 0 1.02-.2 1.41-.59l7.78-7.78 2.81-2.81c.8-.78.8-2.07 0-2.86zM5.41 20L4 18.59l7.72-7.72 1.47 1.35L5.41 20z\"/>\n",
              "  </svg>\n",
              "      </button>\n",
              "      \n",
              "  <style>\n",
              "    .colab-df-container {\n",
              "      display:flex;\n",
              "      flex-wrap:wrap;\n",
              "      gap: 12px;\n",
              "    }\n",
              "\n",
              "    .colab-df-convert {\n",
              "      background-color: #E8F0FE;\n",
              "      border: none;\n",
              "      border-radius: 50%;\n",
              "      cursor: pointer;\n",
              "      display: none;\n",
              "      fill: #1967D2;\n",
              "      height: 32px;\n",
              "      padding: 0 0 0 0;\n",
              "      width: 32px;\n",
              "    }\n",
              "\n",
              "    .colab-df-convert:hover {\n",
              "      background-color: #E2EBFA;\n",
              "      box-shadow: 0px 1px 2px rgba(60, 64, 67, 0.3), 0px 1px 3px 1px rgba(60, 64, 67, 0.15);\n",
              "      fill: #174EA6;\n",
              "    }\n",
              "\n",
              "    [theme=dark] .colab-df-convert {\n",
              "      background-color: #3B4455;\n",
              "      fill: #D2E3FC;\n",
              "    }\n",
              "\n",
              "    [theme=dark] .colab-df-convert:hover {\n",
              "      background-color: #434B5C;\n",
              "      box-shadow: 0px 1px 3px 1px rgba(0, 0, 0, 0.15);\n",
              "      filter: drop-shadow(0px 1px 2px rgba(0, 0, 0, 0.3));\n",
              "      fill: #FFFFFF;\n",
              "    }\n",
              "  </style>\n",
              "\n",
              "      <script>\n",
              "        const buttonEl =\n",
              "          document.querySelector('#df-33d796e3-98da-44bd-8299-ea547421f43f button.colab-df-convert');\n",
              "        buttonEl.style.display =\n",
              "          google.colab.kernel.accessAllowed ? 'block' : 'none';\n",
              "\n",
              "        async function convertToInteractive(key) {\n",
              "          const element = document.querySelector('#df-33d796e3-98da-44bd-8299-ea547421f43f');\n",
              "          const dataTable =\n",
              "            await google.colab.kernel.invokeFunction('convertToInteractive',\n",
              "                                                     [key], {});\n",
              "          if (!dataTable) return;\n",
              "\n",
              "          const docLinkHtml = 'Like what you see? Visit the ' +\n",
              "            '<a target=\"_blank\" href=https://colab.research.google.com/notebooks/data_table.ipynb>data table notebook</a>'\n",
              "            + ' to learn more about interactive tables.';\n",
              "          element.innerHTML = '';\n",
              "          dataTable['output_type'] = 'display_data';\n",
              "          await google.colab.output.renderOutput(dataTable, element);\n",
              "          const docLink = document.createElement('div');\n",
              "          docLink.innerHTML = docLinkHtml;\n",
              "          element.appendChild(docLink);\n",
              "        }\n",
              "      </script>\n",
              "    </div>\n",
              "  </div>\n",
              "  "
            ]
          },
          "metadata": {},
          "execution_count": 14
        }
      ]
    },
    {
      "cell_type": "markdown",
      "source": [
        "Como encontramos apenas uma variável que possui correlação forte com a variável dependente, um modelo de predição eficiente para o caso será o de regressão linear simples, que explica a relação de uma variável dependente, através de uma independente na qual possui uma correlação forte."
      ],
      "metadata": {
        "id": "HzNyNmtgUhY5"
      }
    },
    {
      "cell_type": "markdown",
      "source": [
        "### Box Plot relacionando Tipo de Serviço e Preço do Seguro\n",
        "(correlação alta)"
      ],
      "metadata": {
        "id": "WL9u2RiRrmfa"
      }
    },
    {
      "cell_type": "code",
      "source": [
        "ax = sns.boxplot(y='Preço Seguro', x='Serviço', data=data, palette='Pastel1', width=0.3)\n",
        "ax.figure.set_size_inches(10, 5)\n",
        "ax.set_title('Tipo de Serviço x Preço do Seguro', fontsize=13)\n",
        "ax.set_ylabel('Preço', fontsize=12)\n",
        "ax.set_xlabel('Serviço', fontsize=12)\n",
        "ax"
      ],
      "metadata": {
        "colab": {
          "base_uri": "https://localhost:8080/",
          "height": 372
        },
        "id": "MwnS-SXssXiC",
        "outputId": "8427e00b-6bb8-4b91-abfb-58bac00f01ed"
      },
      "execution_count": null,
      "outputs": [
        {
          "output_type": "execute_result",
          "data": {
            "text/plain": [
              "<matplotlib.axes._subplots.AxesSubplot at 0x7f7a86bd95b0>"
            ]
          },
          "metadata": {},
          "execution_count": 15
        },
        {
          "output_type": "display_data",
          "data": {
            "text/plain": [
              "<Figure size 720x360 with 1 Axes>"
            ],
            "image/png": "[encoded data removed]"
          },
          "metadata": {}
        }
      ]
    },
    {
      "cell_type": "markdown",
      "source": [
        "Podemos conferir a partir do gráfico acima que para o tipo de serviço 1 temos vários outliers para o preço do seguro, ou seja, várias observações que se destacam, são discrepantes, do conjunto de dados total. Já nos outros, os preços apresentam-se distribuídos dentro do conjunto de dados sem possuir outliers, sendo que no tipo 3, a média do preço do seguro possivelmente se aproxima da mediana."
      ],
      "metadata": {
        "id": "BF-N2hLkvW_E"
      }
    },
    {
      "cell_type": "markdown",
      "source": [
        "# Modelo de Regressão Linear"
      ],
      "metadata": {
        "id": "H5UKP0hLXXgq"
      }
    },
    {
      "cell_type": "markdown",
      "source": [
        "Importando o modelo de treinamento e teste da biblioteca do scikit-learn para separar a base de dados em treinamento e teste.\n"
      ],
      "metadata": {
        "id": "4jZBqtHmYCY-"
      }
    },
    {
      "cell_type": "code",
      "source": [
        "from sklearn.model_selection import train_test_split"
      ],
      "metadata": {
        "id": "h6yABJOYVGbR"
      },
      "execution_count": null,
      "outputs": []
    },
    {
      "cell_type": "markdown",
      "source": [
        "### Criando uma Series (pandas) para armazenar a variável dependente (y)"
      ],
      "metadata": {
        "id": "HKeienTXaMIF"
      }
    },
    {
      "cell_type": "code",
      "source": [
        "y = data['Serviço']"
      ],
      "metadata": {
        "id": "KzgzQTO_bITP"
      },
      "execution_count": null,
      "outputs": []
    },
    {
      "cell_type": "markdown",
      "source": [
        "### Definindo um DataFrame com as variáveis independentes"
      ],
      "metadata": {
        "id": "Dcjf8mpclSLz"
      }
    },
    {
      "cell_type": "code",
      "source": [
        " X = data[['Idade','Preço Seguro', 'CEP']]"
      ],
      "metadata": {
        "id": "sfGL982clRfC"
      },
      "execution_count": null,
      "outputs": []
    },
    {
      "cell_type": "markdown",
      "source": [
        "### Datasets de Treinamento e Teste\n",
        "Aqui iremos definir os datasets de treinamento e teste e, para que se possa acessar o mesmo dataset selecionado aleatoriamente, definimos um número (escolha individual) para o random state."
      ],
      "metadata": {
        "id": "XUHwvkpapq61"
      }
    },
    {
      "cell_type": "code",
      "source": [
        "X_train, X_test, y_train, y_test = train_test_split(X, y, test_size=0.3, random_state=15)"
      ],
      "metadata": {
        "id": "3E6CKzTHprWE"
      },
      "execution_count": null,
      "outputs": []
    },
    {
      "cell_type": "markdown",
      "source": [
        "Verificando a quantidade de observações de treinamento em X_train (terá que corresponder a 70% das observações uma vez que o teste ocorre com 30%)"
      ],
      "metadata": {
        "id": "_EL1WIMs6bfd"
      }
    },
    {
      "cell_type": "code",
      "source": [
        "X_train.shape"
      ],
      "metadata": {
        "colab": {
          "base_uri": "https://localhost:8080/"
        },
        "id": "nCb9RecQ6rCZ",
        "outputId": "0cc21b94-067e-4f57-bf34-541baf7e1898"
      },
      "execution_count": null,
      "outputs": [
        {
          "output_type": "execute_result",
          "data": {
            "text/plain": [
              "(350, 3)"
            ]
          },
          "metadata": {},
          "execution_count": 20
        }
      ]
    },
    {
      "cell_type": "markdown",
      "source": [
        "Até aqui, ok. 350 correspondem a 70% das observações voltadas para o treinamento do modelo."
      ],
      "metadata": {
        "id": "fFRjeNO469TX"
      }
    },
    {
      "cell_type": "markdown",
      "source": [
        "### Importando o modelo de regressão linear no Scikit-learn e Metrics\n"
      ],
      "metadata": {
        "id": "4gyJ-f2N4GHO"
      }
    },
    {
      "cell_type": "code",
      "source": [
        "from sklearn.linear_model import LinearRegression "
      ],
      "metadata": {
        "id": "EtklZe5T4jSH"
      },
      "execution_count": null,
      "outputs": []
    },
    {
      "cell_type": "markdown",
      "source": [
        "### Instanciando a classe 'LinearRegression()' do modelo de regressão do Scikit-learn"
      ],
      "metadata": {
        "id": "TBZurFys4rnz"
      }
    },
    {
      "cell_type": "code",
      "source": [
        "model = LinearRegression()"
      ],
      "metadata": {
        "id": "tjY7RBsZ4sEI"
      },
      "execution_count": null,
      "outputs": []
    },
    {
      "cell_type": "markdown",
      "source": [
        "### Treinando o modelo usando o método fit() para estimar o modelo linear através dos dados de treino: (y_train e X_train)"
      ],
      "metadata": {
        "id": "80YWsdOf5U6L"
      }
    },
    {
      "cell_type": "code",
      "source": [
        "model.fit(X_train, y_train)"
      ],
      "metadata": {
        "colab": {
          "base_uri": "https://localhost:8080/"
        },
        "id": "u0pyY1oY49zT",
        "outputId": "e61409a6-8088-4340-d871-552284f70e0b"
      },
      "execution_count": null,
      "outputs": [
        {
          "output_type": "execute_result",
          "data": {
            "text/plain": [
              "LinearRegression()"
            ]
          },
          "metadata": {},
          "execution_count": 23
        }
      ]
    },
    {
      "cell_type": "markdown",
      "source": [
        "### Obtendo o coeficiente de determinação (R²) do modelo estimado com os dados de treino"
      ],
      "metadata": {
        "id": "dOiv0dMI7VkN"
      }
    },
    {
      "cell_type": "code",
      "source": [
        "from sklearn import metrics"
      ],
      "metadata": {
        "id": "kec_FjOA6T12"
      },
      "execution_count": null,
      "outputs": []
    },
    {
      "cell_type": "code",
      "source": [
        "r_score = model.score(X_train, y_train).round(3)\n",
        "r_score"
      ],
      "metadata": {
        "colab": {
          "base_uri": "https://localhost:8080/"
        },
        "id": "0ztUUL5t7jM0",
        "outputId": "be9b8033-6f19-44b5-bb38-15cfb1fd157f"
      },
      "execution_count": null,
      "outputs": [
        {
          "output_type": "execute_result",
          "data": {
            "text/plain": [
              "0.736"
            ]
          },
          "metadata": {},
          "execution_count": 25
        }
      ]
    },
    {
      "cell_type": "markdown",
      "source": [
        "O coeficiente de determinação acima nos traz a informação de que o modelo aplicado explica 73,6% da variância da variável dependente a partir das variáveis independentes, caracterizando-se assim em um bom modelo preditivo."
      ],
      "metadata": {
        "id": "KjROIMvRMJDn"
      }
    },
    {
      "cell_type": "markdown",
      "source": [
        "### Hora de gerar previsões para o modelo com o método 'predict()'"
      ],
      "metadata": {
        "id": "yBnPBsWQQvw3"
      }
    },
    {
      "cell_type": "code",
      "source": [
        "y_previsto = model.predict(X_test)"
      ],
      "metadata": {
        "id": "i_IljKsR85MI"
      },
      "execution_count": null,
      "outputs": []
    },
    {
      "cell_type": "markdown",
      "source": [
        "### Coeficiente de determinação (R²) para as previsões do modelo"
      ],
      "metadata": {
        "id": "VzPTOXjrSDmv"
      }
    },
    {
      "cell_type": "code",
      "source": [
        "erre2 = metrics.r2_score(y_test, y_previsto).round(3)\n",
        "erre2"
      ],
      "metadata": {
        "id": "LFh1nSu-SEIY",
        "colab": {
          "base_uri": "https://localhost:8080/"
        },
        "outputId": "bf97b547-e77d-45e3-f3cd-235fd7296cc5"
      },
      "execution_count": null,
      "outputs": [
        {
          "output_type": "execute_result",
          "data": {
            "text/plain": [
              "0.808"
            ]
          },
          "metadata": {},
          "execution_count": 27
        }
      ]
    },
    {
      "cell_type": "markdown",
      "source": [
        "Mais uma vez o coeficiente de determinação apresentou um resultado favorável ao modelo aplicado, já que o R² do mo modelo de previsão ficou em 80,8%."
      ],
      "metadata": {
        "id": "kc4vb9tHVa6K"
      }
    },
    {
      "cell_type": "markdown",
      "source": [
        "### Inserindo alguns dados para testar o modelo"
      ],
      "metadata": {
        "id": "HqklgCmUWBDj"
      }
    },
    {
      "cell_type": "code",
      "source": [
        "Idade = input('Digite a idade ')\n",
        "Preco_Seguro = input('Digite o valor do seguro (mínimo de 100) ')\n",
        "CEP = input('Digite o CEP com 5 algarismos ')\n",
        "\n",
        "entrada = [[Idade,Preco_Seguro,CEP]]\n",
        "resultado_prev = round(model.predict(entrada)[0],0)\n",
        "print('Tipo de Serviço =', resultado_prev)"
      ],
      "metadata": {
        "colab": {
          "base_uri": "https://localhost:8080/"
        },
        "id": "BGbGqwXCV1-w",
        "outputId": "e83baf6b-f57d-41c1-feb0-48c0855601ed"
      },
      "execution_count": null,
      "outputs": [
        {
          "output_type": "stream",
          "name": "stdout",
          "text": [
            "Digite a idade 41\n",
            "Digite o valor do seguro (mínimo de 100) 3000\n",
            "Digite o CEP com 5 algarismos 19003\n",
            "Tipo de Serviço = 2.0\n"
          ]
        },
        {
          "output_type": "stream",
          "name": "stderr",
          "text": [
            "/usr/local/lib/python3.8/dist-packages/sklearn/base.py:450: UserWarning: X does not have valid feature names, but LinearRegression was fitted with feature names\n",
            "  warnings.warn(\n",
            "/usr/local/lib/python3.8/dist-packages/sklearn/base.py:566: FutureWarning: Arrays of bytes/strings is being converted to decimal numbers if dtype='numeric'. This behavior is deprecated in 0.24 and will be removed in 1.1 (renaming of 0.26). Please convert your data to numeric values explicitly instead.\n",
            "  X = check_array(X, **check_params)\n"
          ]
        }
      ]
    },
    {
      "cell_type": "markdown",
      "source": [
        "### Salvando o modelo com o Pickle"
      ],
      "metadata": {
        "id": "EhiyZlTlgjbX"
      }
    },
    {
      "cell_type": "code",
      "source": [
        "import pickle"
      ],
      "metadata": {
        "id": "br4ve9OPhC4B"
      },
      "execution_count": null,
      "outputs": []
    },
    {
      "cell_type": "code",
      "source": [
        "output = open('modelo_seguradora_LGSY', 'wb') \n",
        "pickle.dump(model, output) \n",
        "output.close() "
      ],
      "metadata": {
        "id": "jxcTyFdfgo_f"
      },
      "execution_count": null,
      "outputs": []
    },
    {
      "cell_type": "markdown",
      "source": [
        "### Avaliando outros modelos\n",
        " Primeiramente, importo as bibliotecas referentes às regressões de RandomForest e GradientBoosting no sklearn.ensemble, além do XGBRegressoe a partir do xgboost e LGBMRegressor do lightgbm para avaliar qual melhor modelo será aplicado, através da assertividade do teste calculado pelo r2 score."
      ],
      "metadata": {
        "id": "QwnFDYCsmTGa"
      }
    },
    {
      "cell_type": "markdown",
      "source": [
        "Obs importante: os modelos abaixo podem ser rodados pois já foram criados anteriormente os datasets de treino e teste. "
      ],
      "metadata": {
        "id": "ZouwmMvwDP1k"
      }
    },
    {
      "cell_type": "code",
      "source": [
        "from sklearn.ensemble import RandomForestRegressor\n",
        "from sklearn.ensemble import GradientBoostingRegressor\n",
        "from xgboost import XGBRegressor\n",
        "from lightgbm import LGBMRegressor\n",
        "\n",
        "from sklearn.metrics import r2_score"
      ],
      "metadata": {
        "id": "Vd6e65pd5w8m"
      },
      "execution_count": null,
      "outputs": []
    },
    {
      "cell_type": "code",
      "source": [
        "#Instancio os modelos\n",
        "modelo_RF = RandomForestRegressor(max_depth=10, max_leaf_nodes=20, random_state=15) \n",
        "modelo_GR = GradientBoostingRegressor(max_depth=10, max_leaf_nodes=20, random_state=15) \n",
        "modelo_XG = XGBRegressor(max_depth=10, max_leaf_nodes=20, random_state=15) \n",
        "modelo_LG = LGBMRegressor(max_depth=10, max_leaf_nodes=20, random_state=15) \n",
        "\n",
        "#Importo as funcoes de tempo para podermos marcar o tempo de treinamento\n",
        "import time\n",
        "\n",
        "\n",
        "print('-'*10+' Randon Forest '+'-'*10)\n",
        "\n",
        "treino_inicio =  time.time() #Inicio do treinamento\n",
        "modelo_RF.fit(X_train, y_train) #Treinamento\n",
        "treino_fim = time.time() #Fim do treinamento\n",
        "y_pred_train = modelo_RF.predict(X_train) # Predição para o treino \n",
        "y_pred_test = modelo_RF.predict(X_test) # Predição para o teste\n",
        "\n",
        "#Exibo as previsões para treino e teste\n",
        "print('Assertividade para o Treino: ', r2_score(y_train, y_pred_train))\n",
        "print('Assertividade para o Teste: ', r2_score(y_test, y_pred_test))\n",
        "print('Trempo de treinamento: ', str(treino_fim-treino_inicio))\n",
        "print('\\n')\n",
        "\n",
        "\n",
        "print('-'*10+' Gradient Boosting '+'-'*10)\n",
        "\n",
        "treino_inicio =  time.time() #Inicio do treinamento\n",
        "modelo_GR.fit(X_train, y_train) #Treinamento\n",
        "treino_fim = time.time() #Fim do treinamento\n",
        "y_pred_train = modelo_GR.predict(X_train) # Predição para o treino \n",
        "y_pred_test = modelo_GR.predict(X_test) # Predição para o teste\n",
        "\n",
        "#Exibo as previsões para treino e teste\n",
        "print('Assertividade para o Treino: ', r2_score(y_train, y_pred_train))\n",
        "print('Assertividade para o Teste: ', r2_score(y_test, y_pred_test))\n",
        "print('Trempo de treinamento: ', str(treino_fim-treino_inicio))\n",
        "print('\\n')\n",
        "\n",
        "print('-'*10+' XGBRegressor '+'-'*10)\n",
        "\n",
        "treino_inicio =  time.time() #Inicio do treinamento\n",
        "modelo_XG.fit(X_train, y_train) #Treinamento\n",
        "treino_fim = time.time() #Fim do treinamento\n",
        "y_pred_train = modelo_XG.predict(X_train) # Predição para o treino \n",
        "y_pred_test = modelo_XG.predict(X_test) # Predição para o teste\n",
        "\n",
        "#Exibo as previsões para treino e teste\n",
        "print('Assertividade para o Treino: ', r2_score(y_train, y_pred_train))\n",
        "print('Assertividade para o Teste: ', r2_score(y_test, y_pred_test))\n",
        "print('Trempo de treinamento: ', str(treino_fim-treino_inicio))\n",
        "print('\\n')\n",
        "\n",
        "print('-'*10+' LGBMRegressor '+'-'*10)\n",
        "\n",
        "treino_inicio =  time.time() #Inicio do treinamento\n",
        "modelo_LG.fit(X_train, y_train) #Treinamento\n",
        "treino_fim = time.time() #Fim do treinamento\n",
        "y_pred_train = modelo_LG.predict(X_train) # Predição para o treino \n",
        "y_pred_test = modelo_LG.predict(X_test) # Predição para o teste\n",
        "\n",
        "#Exibo as previsões para treino e teste\n",
        "print('Assertividade para o Treino: ', r2_score(y_train, y_pred_train))\n",
        "print('Assertividade para o Teste: ', r2_score(y_test, y_pred_test))\n",
        "print('Trempo de treinamento: ', str(treino_fim-treino_inicio))\n",
        "print('\\n')"
      ],
      "metadata": {
        "colab": {
          "base_uri": "https://localhost:8080/"
        },
        "id": "ilU5uUDs12AK",
        "outputId": "3afe25cb-f2c7-4b03-d42d-1839b22b53b5"
      },
      "execution_count": null,
      "outputs": [
        {
          "output_type": "stream",
          "name": "stdout",
          "text": [
            "---------- Randon Forest ----------\n",
            "Assertividade para o Treino:  0.9337621895228927\n",
            "Assertividade para o Teste:  0.7802690436402447\n",
            "Trempo de treinamento:  0.1381511688232422\n",
            "\n",
            "\n",
            "---------- Gradient Boosting ----------\n",
            "Assertividade para o Treino:  0.9993156760827538\n",
            "Assertividade para o Teste:  0.6879369728883435\n",
            "Trempo de treinamento:  0.07928013801574707\n",
            "\n",
            "\n",
            "---------- XGBRegressor ----------\n",
            "[15:08:15] WARNING: /workspace/src/objective/regression_obj.cu:152: reg:linear is now deprecated in favor of reg:squarederror.\n",
            "Assertividade para o Treino:  0.9999896272389004\n",
            "Assertividade para o Teste:  0.6921212886115907\n",
            "Trempo de treinamento:  0.15096282958984375\n",
            "\n",
            "\n",
            "---------- LGBMRegressor ----------\n",
            "Assertividade para o Treino:  0.9238388309384664\n",
            "Assertividade para o Teste:  0.8086111627858554\n",
            "Trempo de treinamento:  0.04584050178527832\n",
            "\n",
            "\n"
          ]
        }
      ]
    },
    {
      "cell_type": "markdown",
      "source": [
        "Sendo assim, dentre todos os modelos apresentados aquele que obteve melhor desempenho foi o LGBMregressor, onde, realizando as análises em relação à assertividade ao treino e ao teste, este obteve resultados mais eficientes, com assertividades em 0.92 e em 0.88, respectivamente. eficientes."
      ],
      "metadata": {
        "id": "7wFxPKGc8yZS"
      }
    },
    {
      "cell_type": "markdown",
      "source": [],
      "metadata": {
        "id": "Z-rG9Mn3k_T5"
      }
    },
    {
      "cell_type": "markdown",
      "source": [
        "### Salvando este modelo com o Pickle"
      ],
      "metadata": {
        "id": "kHonoM9ykrsV"
      }
    },
    {
      "cell_type": "code",
      "source": [
        "import pickle"
      ],
      "metadata": {
        "id": "EQ7663gcksI2"
      },
      "execution_count": null,
      "outputs": []
    },
    {
      "cell_type": "code",
      "source": [
        "output = open('modelo_seguradora_LGSY_LGBMRegressor', 'wb') \n",
        "pickle.dump(modelo_LG, output) \n",
        "output.close()"
      ],
      "metadata": {
        "id": "8GPLgy07F3Qr"
      },
      "execution_count": null,
      "outputs": []
    },
    {
      "cell_type": "code",
      "source": [
        "modelo = open('modelo_seguradora_LGSY_LGBMRegressor', 'rb') #Falo qual é o modelo\n",
        "modeloCarregado = pickle.load(modelo) #Carrego o modelo\n",
        "modelo.close()\n",
        "\n",
        "# Importo as bibliotecas necessárias\n",
        "from ipywidgets import widgets, HBox, VBox\n",
        "from IPython.display import display\n",
        "\n",
        "# Crio os controles do formulário\n",
        "Idade = widgets.Text(description=\"Idade\")\n",
        "Preco_Seguro = widgets.Text(description=\"Preço do seguro\")\n",
        "CEP = widgets.Text(description=\"CEP\")\n",
        "botao = widgets.Button(description=\"Prever\")\n",
        "\n",
        "# Posicionando os campos na tela\n",
        "left = VBox([Idade,Preco_Seguro,CEP])\n",
        "inputs = HBox([left])\n",
        "\n",
        "# Função de para executar a predicao\n",
        "def preditor(sender):\n",
        "    entrada=[[\n",
        "                int(Idade.value if Idade.value else 0), \n",
        "                float(Preco_Seguro.value if Preco_Seguro.value else 0), \n",
        "                int(CEP.value if CEP.value else 0)\n",
        "             ]]\n",
        "    print('Serviço: {0:.0f}'.format(modeloCarregado.predict(entrada)[0]))\n",
        "    \n",
        "# Atribuindo a função \"preditor\" ao evento click do botão\n",
        "botao.on_click(preditor)"
      ],
      "metadata": {
        "id": "66lhroq3ktPc"
      },
      "execution_count": null,
      "outputs": []
    },
    {
      "cell_type": "code",
      "source": [
        "display(inputs, botao)"
      ],
      "metadata": {
        "colab": {
          "base_uri": "https://localhost:8080/",
          "height": 162,
          "referenced_widgets": [
            "cb318f992a1849c3b31965fa93f73fd5",
            "b132a088b6aa43d98782f8a4d0c14b7a",
            "c8cba587a8fb43b0bd918584511c7a98",
            "41adc30a1c034514a5a71c999997cbc4",
            "363591cbdf674a758235cde11d8a80f1",
            "deabedaaa62641dc83c3c8f10ca3b761",
            "013d334f500349f5b82cd5ec7b975cc8",
            "7d35062d5f754bbe85dafa0c1f481081",
            "e33a3e8437394307a8790d392cd6d62f",
            "32ac1c89b3d74bfca3c3f81561a215ac",
            "73b9e9acbc53497cacf60661dd1ca3dc",
            "acc250729fd04f0ab827d79a60eedd18",
            "c74a029b20f84679b536f4adbce6ac9c",
            "be208481709b421083a843622a58eb4e",
            "ede844fcbbca4934af49958d6d6dd7bc",
            "ee038ec7ff664d2e8477fcc804e7540e"
          ]
        },
        "id": "rVbMcUOcoqvl",
        "outputId": "822a6adb-85d6-4eb2-a714-87c4e553f028"
      },
      "execution_count": null,
      "outputs": [
        {
          "output_type": "display_data",
          "data": {
            "text/plain": [
              "HBox(children=(VBox(children=(Text(value='', description='Idade'), Text(value='', description='Preço do seguro…"
            ],
            "application/vnd.jupyter.widget-view+json": {
              "version_major": 2,
              "version_minor": 0,
              "model_id": "cb318f992a1849c3b31965fa93f73fd5"
            }
          },
          "metadata": {}
        },
        {
          "output_type": "display_data",
          "data": {
            "text/plain": [
              "Button(description='Prever', style=ButtonStyle())"
            ],
            "application/vnd.jupyter.widget-view+json": {
              "version_major": 2,
              "version_minor": 0,
              "model_id": "be208481709b421083a843622a58eb4e"
            }
          },
          "metadata": {}
        },
        {
          "output_type": "stream",
          "name": "stdout",
          "text": [
            "Serviço: 2\n"
          ]
        }
      ]
    }
  ]
}